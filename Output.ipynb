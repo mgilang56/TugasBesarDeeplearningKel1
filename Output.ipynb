{
 "cells": [
  {
   "cell_type": "markdown",
   "metadata": {},
   "source": [
    "### Run File Output\n",
    "\n",
    "Lakukan run file output berikut untuk melihat file hasil \"trained_model.keras\", \"training_history\", serta file train dan testnya"
   ]
  },
  {
   "cell_type": "code",
   "execution_count": null,
   "metadata": {},
   "outputs": [
    {
     "name": "stderr",
     "output_type": "stream",
     "text": [
      "Retrieving folder contents\n"
     ]
    },
    {
     "name": "stdout",
     "output_type": "stream",
     "text": [
      "Processing file 1zPi8qQfuqSrJLiE1Q-LIQH5m9T4YObTH class_weights.npy\n",
      "Processing file 1q-Vca422S3qqKvG_H1iqh2ljg6FYFXHI trained_model.keras\n",
      "Processing file 1LO6Wyvla4Tvf6btxjCuE76chJArwTN2z training_history.json\n",
      "Processing file 1Nf7nynqJ4dYUDTf-uaKUp4wdm5AJxkGI X_test.npy\n",
      "Processing file 18AHxJFKgUJOdBdIq0YAtF-3GJbkhKhhA X_train.npy\n",
      "Processing file 1ai52t1sS5NI_wmr98v2lDsfcUSs7f6OA y_test.npy\n",
      "Processing file 19rkq5l7nqAShotwVrERTad4Ed4UHN_2T y_train.npy\n"
     ]
    },
    {
     "name": "stderr",
     "output_type": "stream",
     "text": [
      "Retrieving folder contents completed\n",
      "Building directory structure\n",
      "Building directory structure completed\n",
      "Downloading...\n",
      "From: https://drive.google.com/uc?id=1zPi8qQfuqSrJLiE1Q-LIQH5m9T4YObTH\n",
      "To: d:\\Mosquito_Classifier\\Output\\class_weights.npy\n",
      "100%|██████████| 431/431 [00:00<00:00, 431kB/s]\n",
      "Downloading...\n",
      "From (original): https://drive.google.com/uc?id=1q-Vca422S3qqKvG_H1iqh2ljg6FYFXHI\n",
      "From (redirected): https://drive.google.com/uc?id=1q-Vca422S3qqKvG_H1iqh2ljg6FYFXHI&confirm=t&uuid=6ab65e8e-39e4-42c9-9847-d5e7bace6185\n",
      "To: d:\\Mosquito_Classifier\\Output\\trained_model.keras\n",
      "100%|██████████| 123M/123M [00:34<00:00, 3.59MB/s] \n",
      "Downloading...\n",
      "From: https://drive.google.com/uc?id=1LO6Wyvla4Tvf6btxjCuE76chJArwTN2z\n",
      "To: d:\\Mosquito_Classifier\\Output\\training_history.json\n",
      "100%|██████████| 7.98k/7.98k [00:00<00:00, 3.93MB/s]\n",
      "Downloading...\n",
      "From: https://drive.google.com/uc?id=1Nf7nynqJ4dYUDTf-uaKUp4wdm5AJxkGI\n",
      "To: d:\\Mosquito_Classifier\\Output\\X_test.npy\n",
      "100%|██████████| 98.8M/98.8M [00:21<00:00, 4.52MB/s]\n"
     ]
    }
   ],
   "source": [
    "import gdown\n",
    "\n",
    "# Link Google Drive Folder Output\n",
    "url = \"https://drive.google.com/drive/folders/10rf3K5fdiXxLVYWVIEem76WmJuHG335e?usp=sharing\"\n",
    "\n",
    "# Clean URL if necessary\n",
    "if url.split('/')[-1] == '?usp=sharing':\n",
    "    url = url.replace('?usp=sharing', '')\n",
    "\n",
    "# Download folder\n",
    "gdown.download_folder(url)"
   ]
  },
  {
   "cell_type": "code",
   "execution_count": null,
   "metadata": {},
   "outputs": [],
   "source": []
  }
 ],
 "metadata": {
  "kernelspec": {
   "display_name": "py312_multimedia",
   "language": "python",
   "name": "python3"
  },
  "language_info": {
   "codemirror_mode": {
    "name": "ipython",
    "version": 3
   },
   "file_extension": ".py",
   "mimetype": "text/x-python",
   "name": "python",
   "nbconvert_exporter": "python",
   "pygments_lexer": "ipython3",
   "version": "3.12.4"
  }
 },
 "nbformat": 4,
 "nbformat_minor": 2
}
